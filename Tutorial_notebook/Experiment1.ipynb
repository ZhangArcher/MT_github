{
 "cells": [
  {
   "cell_type": "code",
   "execution_count": null,
   "id": "1fcc7288",
   "metadata": {},
   "outputs": [],
   "source": []
  },
  {
   "cell_type": "code",
   "execution_count": 1,
   "id": "2c624c54",
   "metadata": {},
   "outputs": [],
   "source": [
    "import sys\n",
    "sys.path.append(\"..\")"
   ]
  },
  {
   "cell_type": "code",
   "execution_count": null,
   "id": "3c4bf27a",
   "metadata": {},
   "outputs": [],
   "source": []
  },
  {
   "cell_type": "code",
   "execution_count": 2,
   "id": "be0c206b",
   "metadata": {},
   "outputs": [],
   "source": [
    "import data_set_price.data_collect as data_collect\n",
    "\n",
    "import yfinance\n",
    "\n",
    "stock_id_list=[\"AAPL\",\"MSFT\"]"
   ]
  },
  {
   "cell_type": "code",
   "execution_count": 3,
   "id": "f601c3fa",
   "metadata": {},
   "outputs": [],
   "source": [
    "data_collect.download_data(stock_id_list,interval=\"1mo\",start=\"2000-01-01\",\n",
    "                  end=\"2020-01-01\",\n",
    "                  target_diretory=\"demo_data/ex1/long\",\n",
    "                  back_adjust=True,auto_adjust=True)"
   ]
  },
  {
   "cell_type": "code",
   "execution_count": 4,
   "id": "3712c407",
   "metadata": {},
   "outputs": [
    {
     "name": "stderr",
     "output_type": "stream",
     "text": [
      "D:\\anaconda\\lib\\site-packages\\gpflow\\experimental\\utils.py:42: UserWarning: You're calling gpflow.experimental.check_shapes.decorator.check_shapes which is considered *experimental*. Expect: breaking changes, poor documentation, and bugs.\n",
      "  warn(\n",
      "D:\\anaconda\\lib\\site-packages\\gpflow\\experimental\\utils.py:42: UserWarning: You're calling gpflow.experimental.check_shapes.inheritance.inherit_check_shapes which is considered *experimental*. Expect: breaking changes, poor documentation, and bugs.\n",
      "  warn(\n"
     ]
    }
   ],
   "source": [
    "import util\n",
    "import gp_wrapper_prices as gp_prices"
   ]
  },
  {
   "cell_type": "code",
   "execution_count": 5,
   "id": "5ad48f06",
   "metadata": {},
   "outputs": [
    {
     "name": "stderr",
     "output_type": "stream",
     "text": [
      "D:\\anaconda\\lib\\site-packages\\gpflow\\experimental\\utils.py:42: UserWarning: You're calling gpflow.experimental.check_shapes.checker.ShapeChecker.__init__ which is considered *experimental*. Expect: breaking changes, poor documentation, and bugs.\n",
      "  warn(\n"
     ]
    },
    {
     "name": "stdout",
     "output_type": "stream",
     "text": [
      "WARNING:tensorflow:From D:\\anaconda\\lib\\site-packages\\tensorflow\\python\\autograph\\pyct\\static_analysis\\liveness.py:83: Analyzer.lamba_check (from tensorflow.python.autograph.pyct.static_analysis.liveness) is deprecated and will be removed after 2023-09-23.\n",
      "Instructions for updating:\n",
      "Lambda fuctions will be no more assumed to be used in the statement where they are used, or at least in the same block. https://github.com/tensorflow/tensorflow/issues/56089\n",
      "pred_length is :  1\n",
      "average error of the predicted price is : 0.5301187168833223\n",
      "average error of the traditional expected  price is : 2.9907073974609375\n",
      "pred_length is :  5\n",
      "average error of the predicted price is : 3.2608308340072343\n",
      "average error of the traditional expected  price is : 3.2282928466796874\n",
      "pred_length is :  10\n",
      "average error of the predicted price is : 7.596514481210923\n",
      "average error of the traditional expected  price is : 3.1007869720458983\n",
      "pred_length is :  15\n",
      "average error of the predicted price is : 13.868577634551452\n",
      "average error of the traditional expected  price is : 3.0312103271484374\n",
      "pred_length is :  20\n",
      "average error of the predicted price is : 19.92183960638792\n",
      "average error of the traditional expected  price is : 2.7863491058349608\n",
      "pred_length is :  25\n",
      "average error of the predicted price is : 26.31849348836495\n",
      "average error of the traditional expected  price is : 2.525745697021484\n",
      "pred_length is :  30\n",
      "average error of the predicted price is : 32.38036134431269\n",
      "average error of the traditional expected  price is : 2.4285430908203125\n"
     ]
    }
   ],
   "source": [
    "start_time = \"2000-02-01 00:00:00\"\n",
    "end_time = \"2015-01-01 00:00:00\"\n",
    "start = util.convert_time_into_datetime(time=start_time)\n",
    "end = util.convert_time_into_datetime(time=end_time)\n",
    "\n",
    "pred_length=[1,5,10,15,20,25,30]\n",
    "loss_score_list=[]\n",
    "for length in pred_length:\n",
    "\n",
    "    gp_price_MSFT=gp_prices.gp_wrapper_price(csv_file=\"demo_data/ex1/long/MSFT.csv\",GP_type=\"GPR\")\n",
    "    X_pred_times,Y_pred_mean,Y_pred_cov,Y_trad,Y_pred_actual,loss_score_pred,loss_score_trad=gp_price_MSFT.predict(start_time=start,end_time=end,pred_length=length)\n",
    "    print(\"pred_length is : \",length)\n",
    "    print(\"average error of the predicted price is :\",loss_score_pred)\n",
    "    print(\"average error of the traditional expected  price is :\",loss_score_trad)"
   ]
  },
  {
   "cell_type": "markdown",
   "id": "f5061210",
   "metadata": {},
   "source": [
    "Firstly, as we can see , the average error of the predicted priceror becomes larger while the pred_length is increasing.\n",
    "Hence , we need to shorten the pred_length.\n",
    "\n",
    "Secondly, we can see the  average error of the predicted price is smaller than the average error of the traditional expected price , while pred_length is 1.\n",
    "The predicted price is better than the traditional expected price."
   ]
  },
  {
   "cell_type": "code",
   "execution_count": 6,
   "id": "e6d461aa",
   "metadata": {},
   "outputs": [],
   "source": [
    "import numpy as np"
   ]
  },
  {
   "cell_type": "code",
   "execution_count": 7,
   "id": "5da3d55c",
   "metadata": {},
   "outputs": [
    {
     "name": "stdout",
     "output_type": "stream",
     "text": [
      "fitting_windows is :  2\n",
      "average error of the predicted price is : 1.346718827482427\n",
      "average error of the traditional expected  price is : 1.3241280070896253\n",
      "fitting_windows is :  3\n",
      "average error of the predicted price is : 1.3395735868976804\n",
      "average error of the traditional expected  price is : 1.2678742248020811\n",
      "fitting_windows is :  4\n",
      "average error of the predicted price is : 1.3183825587589235\n",
      "average error of the traditional expected  price is : 1.2624242534745207\n",
      "fitting_windows is :  5\n",
      "average error of the predicted price is : 1.315166334500046\n",
      "average error of the traditional expected  price is : 1.2388227527791802\n",
      "fitting_windows is :  10\n",
      "average error of the predicted price is : 1.4281102401390058\n",
      "average error of the traditional expected  price is : 1.2028422439307493\n",
      "fitting_windows is :  15\n",
      "average error of the predicted price is : 1.4611023723327736\n",
      "average error of the traditional expected  price is : 1.1434098324143742\n",
      "fitting_windows is :  20\n",
      "average error of the predicted price is : 1.406233083068599\n",
      "average error of the traditional expected  price is : 1.1266751674391466\n",
      "fitting_windows is :  25\n",
      "average error of the predicted price is : 1.4493031430717267\n",
      "average error of the traditional expected  price is : 1.1170112536503716\n",
      "fitting_windows is :  30\n",
      "average error of the predicted price is : 1.462305502607272\n",
      "average error of the traditional expected  price is : 1.1089905366202852\n"
     ]
    }
   ],
   "source": [
    "start_time = \"2000-02-01 00:00:00\"\n",
    "end_time = \"2015-01-01 00:00:00\"\n",
    "start = util.convert_time_into_datetime(time=start_time)\n",
    "end = util.convert_time_into_datetime(time=end_time)\n",
    "\n",
    "fitting_windows=[2,3,4,5,10,15,20,25,30]\n",
    "loss_score_list=[]\n",
    "for windows in fitting_windows:\n",
    "\n",
    "    gp_price_MSFT=gp_prices.gp_wrapper_price(csv_file=\"demo_data/ex1/long/MSFT.csv\",GP_type=\"GPR\")\n",
    "    df_mean,df_var,loss_score_pred,loss_score_trad=gp_price_MSFT.predict_multi(start_time=start, end_time=end, fitting_windows=windows,add_correction_term=False)\n",
    "  \n",
    "    print(\"fitting_windows is : \",windows)\n",
    "    print(\"average error of the predicted price is :\",np.mean(loss_score_pred))\n",
    "    print(\"average error of the traditional expected  price is :\",np.mean(loss_score_trad))\n"
   ]
  },
  {
   "cell_type": "markdown",
   "id": "51e3f44d",
   "metadata": {},
   "source": [
    "Firstly,as we can see , the errors are not  decreasing while the fitting_window is  increasing.\n",
    "Hence , there is not evidence to prove that we can reduce the error by using a large fitting_windows.\n",
    "The minimal error is the error with fitting_windows =2 , the smallest fitting_windows. \n",
    "Therefore, keeping fitting_windows smaller and smaller is the best way to reduce the error.\n",
    "Secondly,all average errors of the predicted price are larger than the corresponding average errors of the traditional expected price.\n",
    "The difference between two errors is minimal while fitting_windows =2 ."
   ]
  },
  {
   "cell_type": "code",
   "execution_count": null,
   "id": "8a19dd9e",
   "metadata": {},
   "outputs": [],
   "source": []
  }
 ],
 "metadata": {
  "kernelspec": {
   "display_name": "Python 3",
   "language": "python",
   "name": "python3"
  },
  "language_info": {
   "codemirror_mode": {
    "name": "ipython",
    "version": 3
   },
   "file_extension": ".py",
   "mimetype": "text/x-python",
   "name": "python",
   "nbconvert_exporter": "python",
   "pygments_lexer": "ipython3",
   "version": "3.8.5"
  }
 },
 "nbformat": 4,
 "nbformat_minor": 5
}
