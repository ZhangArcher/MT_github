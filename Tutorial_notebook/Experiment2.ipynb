{
 "cells": [
  {
   "cell_type": "code",
   "execution_count": 1,
   "id": "5765ac6d",
   "metadata": {},
   "outputs": [],
   "source": [
    "import sys\n",
    "sys.path.append(\"..\")"
   ]
  },
  {
   "cell_type": "code",
   "execution_count": 2,
   "id": "36e5e2a9",
   "metadata": {},
   "outputs": [],
   "source": [
    "import data_set_price.data_collect as data_collect\n",
    "import yfinance"
   ]
  },
  {
   "cell_type": "code",
   "execution_count": 3,
   "id": "c39d3a10",
   "metadata": {},
   "outputs": [
    {
     "name": "stderr",
     "output_type": "stream",
     "text": [
      "D:\\anaconda\\lib\\site-packages\\gpflow\\experimental\\utils.py:42: UserWarning: You're calling gpflow.experimental.check_shapes.decorator.check_shapes which is considered *experimental*. Expect: breaking changes, poor documentation, and bugs.\n",
      "  warn(\n",
      "D:\\anaconda\\lib\\site-packages\\gpflow\\experimental\\utils.py:42: UserWarning: You're calling gpflow.experimental.check_shapes.inheritance.inherit_check_shapes which is considered *experimental*. Expect: breaking changes, poor documentation, and bugs.\n",
      "  warn(\n"
     ]
    }
   ],
   "source": [
    "import util\n",
    "import fusion_wrapper_price \n",
    "import numpy as np\n",
    "import matplotlib.pyplot as plt"
   ]
  },
  {
   "cell_type": "markdown",
   "id": "79a37a90",
   "metadata": {},
   "source": [
    "Experiment2-multiple short-term data points (see:Tutorial_notebook/Experiment2.ipynb)\n",
    "\n",
    "In this Experiment , we test how the forward_window can improve the performance of the prediction , while using Gaussian process fusion for stock prices with multiple short-term data points.\n",
    "    The fusion method is based on multiple linear regression.\n",
    "    \n",
    "\n",
    "data set:\n",
    "        long_term_MSFT.csv : the data set about MSFT stock monthly price between 2007-01-01 and  2015-02-01 .\n",
    "        short_term_MSFT.csv : the data set about MSFT stock daily price between 2007-01-01 and  2015-02-01 .\n",
    "\n",
    "Process:\n",
    "        start_time= \"01-02-2007 \"\n",
    "        predict_begin=\"-01-02-2011\"\n",
    "        end_time=\"01-02-2015\"\n",
    "        forward_window=[1,5,10,15,20,25]\n",
    "        \n",
    "we want to predict the MSFT monthly price from  predict_begin  to end_time every month with different forward_window.\n",
    "\n",
    "    The actual long term data : the actual monthly prices that we  want to predicted in step1 and step 3.\n",
    "    The actual short-term data : the actuial daily prices that we have predicted in step 2.\n",
    "\n",
    "step1: to predict the long-term data\n",
    "    the long-term data : The predicted monthly price \n",
    "\n",
    "step2: to predict the short-term data with the excess time (multiple short-term data points) \n",
    "    the short-term data: The predicted daily prices   (data size = forward_window)\n",
    "\n",
    "step3: to fuse the long-term data with the short-term data , and to generate the fused data.\n",
    "\n",
    "let X=[the long-term data,the short-term data] ,Y^*=[the fused long term data]\n",
    "Y^*=multiple linear regression(X)\n",
    "\n",
    "Let Y=[the actual long term data],\n",
    "Add X and Y into the training data set to fit multiple linear regression.\n",
    "\n",
    "\n",
    "calculate the errors.\n",
    "\n",
    "error of fusion: \n",
    "abs(the fused long term data - the actual long term data)\n",
    "\n",
    "error of long_term prediction:\n",
    "abs(the long-term data - the actual long term data)\n",
    "\n",
    "error of short_term prediction:\n",
    "abs(the short term data[-1] - the actual long term data)\n",
    "\n",
    "(importance: the short term data[-1]  is the last one data point from these predicted daily prices )\n"
   ]
  },
  {
   "cell_type": "code",
   "execution_count": 4,
   "id": "649a4544",
   "metadata": {},
   "outputs": [],
   "source": [
    "    start_time=\"2007-05-01 00:00:00\"\n",
    "    predict_begin=\"2011-05-01 00:00:00\"\n",
    "    end_time=\"2015-05-01 00:00:00\"\n",
    "\n",
    "    start_time = util.convert_time_into_datetime(time=start_time)\n",
    "    predict_begin = util.convert_time_into_datetime(time=predict_begin)\n",
    "    end_time = util.convert_time_into_datetime(time=end_time)\n",
    "    long_term_data_file = \"demo_data/ex2/long/MSFT.csv\"\n",
    "    short_term_data_file=\"demo_data/ex2/short/MSFT.csv\""
   ]
  },
  {
   "cell_type": "code",
   "execution_count": 5,
   "id": "167a0c64",
   "metadata": {},
   "outputs": [],
   "source": [
    "forward_window_list=range(1,25)"
   ]
  },
  {
   "cell_type": "code",
   "execution_count": 6,
   "id": "bee608f1",
   "metadata": {},
   "outputs": [
    {
     "name": "stderr",
     "output_type": "stream",
     "text": [
      "D:\\anaconda\\lib\\site-packages\\gpflow\\experimental\\utils.py:42: UserWarning: You're calling gpflow.experimental.check_shapes.checker.ShapeChecker.__init__ which is considered *experimental*. Expect: breaking changes, poor documentation, and bugs.\n",
      "  warn(\n"
     ]
    },
    {
     "name": "stdout",
     "output_type": "stream",
     "text": [
      "WARNING:tensorflow:From D:\\anaconda\\lib\\site-packages\\tensorflow\\python\\autograph\\pyct\\static_analysis\\liveness.py:83: Analyzer.lamba_check (from tensorflow.python.autograph.pyct.static_analysis.liveness) is deprecated and will be removed after 2023-09-23.\n",
      "Instructions for updating:\n",
      "Lambda fuctions will be no more assumed to be used in the statement where they are used, or at least in the same block. https://github.com/tensorflow/tensorflow/issues/56089\n",
      "forward_window: 1\n",
      "averaeg error of fusion :  2.2633542474930106\n",
      "average error of long_term prediction :  1.549716047855353\n",
      "average error of short_term prediction :  1.800405689273728\n",
      "forward_window: 2\n",
      "averaeg error of fusion :  1.7623409891225517\n",
      "average error of long_term prediction :  1.549716047855353\n",
      "average error of short_term prediction :  1.7604206826167696\n",
      "forward_window: 3\n",
      "averaeg error of fusion :  2.224713001609339\n",
      "average error of long_term prediction :  1.549716047855353\n",
      "average error of short_term prediction :  1.7361150862422348\n",
      "forward_window: 4\n",
      "averaeg error of fusion :  2.209538282918915\n",
      "average error of long_term prediction :  1.549716047855353\n",
      "average error of short_term prediction :  1.7584477296513634\n",
      "forward_window: 5\n",
      "averaeg error of fusion :  2.584170370922463\n",
      "average error of long_term prediction :  1.549716047855353\n",
      "average error of short_term prediction :  1.7535784678809212\n",
      "forward_window: 6\n",
      "averaeg error of fusion :  2.317553621482765\n",
      "average error of long_term prediction :  1.549716047855353\n",
      "average error of short_term prediction :  1.7178692133690583\n",
      "forward_window: 7\n",
      "averaeg error of fusion :  2.4361812130906535\n",
      "average error of long_term prediction :  1.549716047855353\n",
      "average error of short_term prediction :  1.71535640393976\n",
      "forward_window: 8\n",
      "averaeg error of fusion :  2.439227831186964\n",
      "average error of long_term prediction :  1.549716047855353\n",
      "average error of short_term prediction :  1.727133856443261\n",
      "forward_window: 9\n",
      "averaeg error of fusion :  2.9807151990405423\n",
      "average error of long_term prediction :  1.549716047855353\n",
      "average error of short_term prediction :  1.7089212219386687\n",
      "forward_window: 10\n",
      "averaeg error of fusion :  4.154039185176938\n",
      "average error of long_term prediction :  1.549716047855353\n",
      "average error of short_term prediction :  1.6710203537830175\n",
      "forward_window: 11\n",
      "averaeg error of fusion :  3.069697808414368\n",
      "average error of long_term prediction :  1.549716047855353\n",
      "average error of short_term prediction :  1.6045715304283281\n",
      "forward_window: 12\n",
      "averaeg error of fusion :  2.9885164447120816\n",
      "average error of long_term prediction :  1.549716047855353\n",
      "average error of short_term prediction :  1.5550625199695944\n",
      "forward_window: 13\n",
      "averaeg error of fusion :  2.3794704153594437\n",
      "average error of long_term prediction :  1.549716047855353\n",
      "average error of short_term prediction :  1.5400260195396507\n",
      "forward_window: 14\n",
      "averaeg error of fusion :  2.5925792769042686\n",
      "average error of long_term prediction :  1.549716047855353\n",
      "average error of short_term prediction :  1.5187936851227872\n",
      "forward_window: 15\n",
      "averaeg error of fusion :  2.7597976728078795\n",
      "average error of long_term prediction :  1.549716047855353\n",
      "average error of short_term prediction :  1.5036295792440642\n",
      "forward_window: 16\n",
      "averaeg error of fusion :  2.7277243214187554\n",
      "average error of long_term prediction :  1.549716047855353\n",
      "average error of short_term prediction :  1.4407097183270354\n",
      "forward_window: 17\n",
      "averaeg error of fusion :  3.226424110526183\n",
      "average error of long_term prediction :  1.549716047855353\n",
      "average error of short_term prediction :  1.4098666344361084\n",
      "forward_window: 18\n",
      "averaeg error of fusion :  2.814575948861405\n",
      "average error of long_term prediction :  1.549716047855353\n",
      "average error of short_term prediction :  1.3597923500567415\n",
      "forward_window: 19\n",
      "averaeg error of fusion :  2.7342980446031424\n",
      "average error of long_term prediction :  1.549716047855353\n",
      "average error of short_term prediction :  1.3609125544872713\n",
      "forward_window: 20\n",
      "averaeg error of fusion :  2.639943197278022\n",
      "average error of long_term prediction :  1.549716047855353\n",
      "average error of short_term prediction :  1.3176454569412743\n",
      "forward_window: 21\n",
      "averaeg error of fusion :  2.4987394366505686\n",
      "average error of long_term prediction :  1.549716047855353\n",
      "average error of short_term prediction :  1.330498880146528\n",
      "forward_window: 22\n",
      "averaeg error of fusion :  2.3820573888349554\n",
      "average error of long_term prediction :  1.549716047855353\n",
      "average error of short_term prediction :  1.3024381585712326\n",
      "forward_window: 23\n",
      "averaeg error of fusion :  2.644972222820885\n",
      "average error of long_term prediction :  1.549716047855353\n",
      "average error of short_term prediction :  1.2611602860252942\n",
      "forward_window: 24\n",
      "averaeg error of fusion :  2.377108661587745\n",
      "average error of long_term prediction :  1.549716047855353\n",
      "average error of short_term prediction :  1.2162782394630864\n"
     ]
    },
    {
     "data": {
      "image/png": "[encoded data removed]",
      "text/plain": [
       "<Figure size 432x288 with 1 Axes>"
      ]
     },
     "metadata": {
      "needs_background": "light"
     },
     "output_type": "display_data"
    }
   ],
   "source": [
    "error_fusion_list=[]\n",
    "error_long_term_list=[]\n",
    "error_short_term_list=[]\n",
    "\n",
    "for forward_window in forward_window_list:\n",
    "    fff2 = fusion_wrapper_price.fusion_wrapper_price(csv_path_long_term=long_term_data_file, csv_path_short_term=short_term_data_file,GP_type=\"GPR\")\n",
    "    df_error_fusion_list, df_error_long_term_list, df_error_short_term_list, time_index = fff2.fusion_next_price_multi(start=start_time,end=end_time,fitting_windows=6,forward_window=forward_window)\n",
    "    \n",
    "    print(\"forward_window:\",forward_window)\n",
    "    print(\"averaeg error of fusion : \",np.mean(df_error_fusion_list))\n",
    "    print(\"average error of long_term prediction : \", np.mean(df_error_long_term_list))\n",
    "    print(\"average error of short_term prediction : \", np.mean(df_error_short_term_list))\n",
    "    error_fusion_list.append(np.mean(df_error_fusion_list))\n",
    "    error_long_term_list.append(np.mean(df_error_long_term_list))\n",
    "    error_short_term_list.append(np.mean(df_error_short_term_list))\n",
    "    \n",
    "    \n",
    "fig, ax = plt.subplots()\n",
    "\n",
    "ax.plot(forward_window_list, error_fusion_list,label=\"error of fusion \")\n",
    "ax.plot(forward_window_list, error_long_term_list, label=\"error of long_term \")\n",
    "ax.plot(forward_window_list, error_short_term_list, label=\"error of short_term \")\n",
    "#plt.yscale(\"log\")\n",
    "ax.legend()\n",
    "plt.savefig('ex2_multi.png')\n",
    "plt.show()"
   ]
  },
  {
   "cell_type": "code",
   "execution_count": 7,
   "id": "fd4bc09d",
   "metadata": {},
   "outputs": [
    {
     "data": {
      "image/png": "[encoded data removed]",
      "text/plain": [
       "<Figure size 432x288 with 1 Axes>"
      ]
     },
     "metadata": {
      "needs_background": "light"
     },
     "output_type": "display_data"
    }
   ],
   "source": [
    "    \n",
    "fig, ax = plt.subplots()\n",
    "\n",
    "ax.plot(forward_window_list, error_fusion_list,label=\"error of fusion \")\n",
    "ax.plot(forward_window_list, error_long_term_list, label=\"error of long_term \")\n",
    "ax.plot(forward_window_list, error_short_term_list, label=\"error of short_term \")\n",
    "ax.set_xlabel('forward_window')\n",
    "ax.set_ylabel('error')\n",
    "#plt.yscale(\"log\")\n",
    "ax.legend()\n",
    "plt.savefig('ex2_multi.png')\n",
    "plt.show()"
   ]
  },
  {
   "cell_type": "code",
   "execution_count": null,
   "id": "0df9843b",
   "metadata": {},
   "outputs": [],
   "source": []
  },
  {
   "cell_type": "markdown",
   "id": "352d5174",
   "metadata": {},
   "source": [
    "Experiment2-singleshort-term data points (see:Tutorial_notebook/Experiment2.ipynb)\n",
    "\n",
    "In this Experiment , we test how the forward_window can improve the performance of the prediction , while using Gaussian process fusion for stock prices with multiple short-term data points.\n",
    "The fusion method is based on multiple linear regression.\n",
    "\n",
    "\n",
    "data set:\n",
    "    \n",
    "        long_term_MSFT.csv : the data set about MSFT stock monthly price between 2007-01-01 and  2015-02-01 .\n",
    "        short_term_MSFT.csv : the data set about MSFT stock daily price between 2007-01-01 and  2015-02-01 .\n",
    "\n",
    "Process:\n",
    "        start_time= \"01-02-2007 \"\n",
    "        predict_begin=\"-01-02-2011\"\n",
    "        end_time=\"01-02-2015\"\n",
    "        forward_window=[1,5,10,15,20,25]\n",
    "        we want to predict the MSFT monthly price from  predict_begin  to end_time every month with different forward_window.\n",
    "        \n",
    "    The actual long term data : the actual monthly prices that we  want to predicted in step1 and step 3.\n",
    "    The actual short-term data : the actuial daily prices that we have predicted .in step 2.\n",
    "\n",
    "step1: to predict the long-term data\n",
    "    the long-term data : The predicted monthly price \n",
    "\n",
    "step2: to predict the short-term data with the excess time (multiple short-term data points) \n",
    "    the short-term data: The predicted daily prices   (data size = forward_window)\n",
    "\n",
    "step3: to fuse the long-term data with the short-term data , and to generate the fused data.\n",
    "\n",
    "let X=[the long-term data,the short-term data] ,Y^*=[the fused long term data]\n",
    "Y^*=multiple linear regression(X)\n",
    "\n",
    "Let Y=[the actual long term data],\n",
    "Add X and Y into the training data set to fit multiple linear regression.\n",
    "\n",
    "\n",
    "calculate the errors.\n",
    "\n",
    "error of fusion: \n",
    "abs(the fused long term data - the actual long term data)\n",
    "\n",
    "error of long_term prediction:\n",
    "abs(the long-term data - the actual long term data)\n",
    "\n",
    "error of short_term prediction:\n",
    "abs(the short term data[-1] - the actual long term data)\n",
    "\n",
    "(importance: the short term data[-1]  is the last one data point from these predicted daily prices )\n"
   ]
  },
  {
   "cell_type": "code",
   "execution_count": 8,
   "id": "bcf675b0",
   "metadata": {},
   "outputs": [
    {
     "name": "stdout",
     "output_type": "stream",
     "text": [
      "forward_window: 1\n",
      "averaeg error of fusion : 2.2633542474930106\n",
      "average error of long_term prediction :  1.549716047855353\n",
      "average error of short_term prediction :  1.800405689273728\n",
      "forward_window: 2\n",
      "averaeg error of fusion : 2.0538267435098283\n",
      "average error of long_term prediction :  1.549716047855353\n",
      "average error of short_term prediction :  1.7604206826167696\n",
      "forward_window: 3\n",
      "averaeg error of fusion : 2.0657732977142347\n",
      "average error of long_term prediction :  1.549716047855353\n",
      "average error of short_term prediction :  1.7361150862422348\n",
      "forward_window: 4\n",
      "averaeg error of fusion : 1.9380125292312358\n",
      "average error of long_term prediction :  1.549716047855353\n",
      "average error of short_term prediction :  1.7584477296513634\n",
      "forward_window: 5\n",
      "averaeg error of fusion : 2.530355976511812\n",
      "average error of long_term prediction :  1.549716047855353\n",
      "average error of short_term prediction :  1.7535784678809212\n",
      "forward_window: 6\n",
      "averaeg error of fusion : 2.107650285346243\n",
      "average error of long_term prediction :  1.549716047855353\n",
      "average error of short_term prediction :  1.7178692133690583\n",
      "forward_window: 7\n",
      "averaeg error of fusion : 1.9236082723719066\n",
      "average error of long_term prediction :  1.549716047855353\n",
      "average error of short_term prediction :  1.71535640393976\n",
      "forward_window: 8\n",
      "averaeg error of fusion : 3.110313990207486\n",
      "average error of long_term prediction :  1.549716047855353\n",
      "average error of short_term prediction :  1.727133856443261\n",
      "forward_window: 9\n",
      "averaeg error of fusion : 2.401597208786539\n",
      "average error of long_term prediction :  1.549716047855353\n",
      "average error of short_term prediction :  1.7089212219386687\n",
      "forward_window: 10\n",
      "averaeg error of fusion : 1.8950878204451804\n",
      "average error of long_term prediction :  1.549716047855353\n",
      "average error of short_term prediction :  1.6710203537830175\n",
      "forward_window: 11\n",
      "averaeg error of fusion : 1.7671055054522293\n",
      "average error of long_term prediction :  1.549716047855353\n",
      "average error of short_term prediction :  1.6045715304283281\n",
      "forward_window: 12\n",
      "averaeg error of fusion : 1.7273300602650914\n",
      "average error of long_term prediction :  1.549716047855353\n",
      "average error of short_term prediction :  1.5550625199695944\n",
      "forward_window: 13\n",
      "averaeg error of fusion : 1.6183166621918184\n",
      "average error of long_term prediction :  1.549716047855353\n",
      "average error of short_term prediction :  1.5400260195396507\n",
      "forward_window: 14\n",
      "averaeg error of fusion : 1.67812756186457\n",
      "average error of long_term prediction :  1.549716047855353\n",
      "average error of short_term prediction :  1.5187936851227872\n",
      "forward_window: 15\n",
      "averaeg error of fusion : 1.7592012604289702\n",
      "average error of long_term prediction :  1.549716047855353\n",
      "average error of short_term prediction :  1.5036295792440642\n",
      "forward_window: 16\n",
      "averaeg error of fusion : 2.854560064574999\n",
      "average error of long_term prediction :  1.549716047855353\n",
      "average error of short_term prediction :  1.4407097183270354\n",
      "forward_window: 17\n",
      "averaeg error of fusion : 6.302453963087881\n",
      "average error of long_term prediction :  1.549716047855353\n",
      "average error of short_term prediction :  1.4098666344361084\n",
      "forward_window: 18\n",
      "averaeg error of fusion : 1.8039368018741135\n",
      "average error of long_term prediction :  1.549716047855353\n",
      "average error of short_term prediction :  1.3597923500567415\n",
      "forward_window: 19\n",
      "averaeg error of fusion : 1.5972768288885204\n",
      "average error of long_term prediction :  1.549716047855353\n",
      "average error of short_term prediction :  1.3609125544872713\n",
      "forward_window: 20\n",
      "averaeg error of fusion : 1.5053580533507664\n",
      "average error of long_term prediction :  1.549716047855353\n",
      "average error of short_term prediction :  1.3176454569412743\n",
      "forward_window: 21\n",
      "averaeg error of fusion : 1.527891011611705\n",
      "average error of long_term prediction :  1.549716047855353\n",
      "average error of short_term prediction :  1.330498880146528\n",
      "forward_window: 22\n",
      "averaeg error of fusion : 1.484947299554301\n",
      "average error of long_term prediction :  1.549716047855353\n",
      "average error of short_term prediction :  1.3024381585712326\n",
      "forward_window: 23\n",
      "averaeg error of fusion : 1.3944713612485293\n",
      "average error of long_term prediction :  1.549716047855353\n",
      "average error of short_term prediction :  1.2611602860252942\n",
      "forward_window: 24\n",
      "averaeg error of fusion : 1.279964799196538\n",
      "average error of long_term prediction :  1.549716047855353\n",
      "average error of short_term prediction :  1.2162782394630864\n"
     ]
    },
    {
     "data": {
      "image/png": "[encoded data removed]",
      "text/plain": [
       "<Figure size 432x288 with 1 Axes>"
      ]
     },
     "metadata": {
      "needs_background": "light"
     },
     "output_type": "display_data"
    }
   ],
   "source": [
    "error_fusion_list2=[]\n",
    "error_long_term_list2=[]\n",
    "error_short_term_list2=[]\n",
    "\n",
    "\n",
    "for forward_window in forward_window_list:\n",
    "    fff2 = fusion_wrapper_price.fusion_wrapper_price(csv_path_long_term=long_term_data_file, csv_path_short_term=short_term_data_file,GP_type=\"GPR\")\n",
    "    df_error_fusion_list, df_error_long_term_list, df_error_short_term_list, time_index = fff2.multi_fusion_next_price_single_short_term_data(start=start_time,end=end_time,fitting_windows=6,forward_window=forward_window)                                                                                                                                                                                                                                                           \n",
    "    print(\"forward_window:\",forward_window)\n",
    "    print(\"averaeg error of fusion :\",np.mean(df_error_fusion_list))\n",
    "    print(\"average error of long_term prediction : \", np.mean(df_error_long_term_list))\n",
    "    print(\"average error of short_term prediction : \", np.mean(df_error_short_term_list))\n",
    "    error_fusion_list2.append(np.mean(df_error_fusion_list))\n",
    "    error_long_term_list2.append(np.mean(df_error_long_term_list))\n",
    "    error_short_term_list2.append(np.mean(df_error_short_term_list))\n",
    "    \n",
    "    \n",
    "fig, ax = plt.subplots()\n",
    "\n",
    "ax.plot(forward_window_list, error_fusion_list2,label=\"error of fusion \")\n",
    "ax.plot(forward_window_list, error_long_term_list2, label=\"error of long_term \")\n",
    "ax.plot(forward_window_list, error_short_term_list2, label=\"error of short_term \")\n",
    "#plt.yscale(\"log\")\n",
    "ax.legend()\n",
    "plt.savefig('ex2_single.png')\n",
    "plt.show()"
   ]
  },
  {
   "cell_type": "code",
   "execution_count": 9,
   "id": "a3ef4a71",
   "metadata": {},
   "outputs": [
    {
     "data": {
      "image/png": "[encoded data removed]",
      "text/plain": [
       "<Figure size 432x288 with 1 Axes>"
      ]
     },
     "metadata": {
      "needs_background": "light"
     },
     "output_type": "display_data"
    }
   ],
   "source": [
    "\n",
    "fig, ax = plt.subplots()\n",
    "\n",
    "ax.plot(forward_window_list, error_fusion_list2,label=\"error of fusion \")\n",
    "ax.plot(forward_window_list, error_long_term_list2, label=\"error of long_term \")\n",
    "ax.plot(forward_window_list, error_short_term_list2, label=\"error of short_term \")\n",
    "ax.set_xlabel('forward_window')\n",
    "ax.set_ylabel('error')\n",
    "#plt.yscale(\"log\")\n",
    "ax.legend()\n",
    "plt.savefig('ex2_single.png')\n",
    "plt.show()\n"
   ]
  },
  {
   "cell_type": "code",
   "execution_count": null,
   "id": "65b89fca",
   "metadata": {},
   "outputs": [],
   "source": [
    "\n"
   ]
  },
  {
   "cell_type": "code",
   "execution_count": null,
   "id": "ac343a6e",
   "metadata": {},
   "outputs": [],
   "source": []
  },
  {
   "cell_type": "code",
   "execution_count": null,
   "id": "0a76ccb7",
   "metadata": {},
   "outputs": [],
   "source": []
  }
 ],
 "metadata": {
  "kernelspec": {
   "display_name": "Python 3",
   "language": "python",
   "name": "python3"
  },
  "language_info": {
   "codemirror_mode": {
    "name": "ipython",
    "version": 3
   },
   "file_extension": ".py",
   "mimetype": "text/x-python",
   "name": "python",
   "nbconvert_exporter": "python",
   "pygments_lexer": "ipython3",
   "version": "3.8.5"
  }
 },
 "nbformat": 4,
 "nbformat_minor": 5
}
